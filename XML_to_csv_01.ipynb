{
 "cells": [
  {
   "cell_type": "code",
   "execution_count": 11,
   "metadata": {
    "collapsed": true
   },
   "outputs": [],
   "source": [
    "import xml.etree.ElementTree as ET\n",
    "import csv\n",
    "import os\n",
    "os.chdir('/home/tapas/XML/')"
   ]
  },
  {
   "cell_type": "code",
   "execution_count": 12,
   "metadata": {
    "collapsed": true
   },
   "outputs": [],
   "source": [
    "tree = ET.parse(\"resident_data.xml\")"
   ]
  },
  {
   "cell_type": "code",
   "execution_count": 13,
   "metadata": {
    "collapsed": true
   },
   "outputs": [],
   "source": [
    "root = tree.getroot()"
   ]
  },
  {
   "cell_type": "code",
   "execution_count": 14,
   "metadata": {
    "collapsed": true
   },
   "outputs": [],
   "source": [
    "# open a file for writing\n",
    "Resident_data = open('ResidentData.csv', 'w')"
   ]
  },
  {
   "cell_type": "code",
   "execution_count": 15,
   "metadata": {
    "collapsed": true
   },
   "outputs": [],
   "source": [
    "# create the csv writer object\n",
    "csvwriter = csv.writer(Resident_data)"
   ]
  },
  {
   "cell_type": "code",
   "execution_count": 16,
   "metadata": {},
   "outputs": [],
   "source": [
    "#intiatalise variable name resident head \n",
    "resident_head = []\n",
    "count = 0\n",
    "#find the Resident \n",
    "for member in root.findall('Resident'):\n",
    "    #Intialise variable name resident which starts with <resident>\n",
    "    resident = []\n",
    "    #Intialise variable name address_list starts with <Address>\n",
    "    address_list = []\n",
    "    #Resident has id that's why used count\n",
    "    if count == 0:\n",
    "        #it create a column name \"Name\"\n",
    "        name = member.find('Name').tag\n",
    "        #Update into resident_head variable\n",
    "        resident_head.append(name)\n",
    "        #It create column name \"PhoneNumber\"\n",
    "        PhoneNumber = member.find('PhoneNumber').tag\n",
    "        #Update into resident_head variable\n",
    "        resident_head.append(PhoneNumber)\n",
    "        #It create column name \"EmailAddress\"\n",
    "        EmailAddress = member.find('EmailAddress').tag\n",
    "        #update into resident_head variable\n",
    "        resident_head.append(EmailAddress)\n",
    "        #Address seperate one then entire thing inside the membe which create column name Address\n",
    "        Address = member[3].tag\n",
    "        #Update into resident_head\n",
    "        resident_head.append(Address)\n",
    "        #write each row following iteration\n",
    "        csvwriter.writerow(resident_head)\n",
    "        #Resident has different ID\n",
    "        count = count + 1\n",
    "    #Adding values to column name \"Name\"\n",
    "    name = member.find('Name').text\n",
    "    #update into resident varaible\n",
    "    resident.append(name)\n",
    "    #Adding values to column name \"PhoneNumber\"\n",
    "    PhoneNumber = member.find('PhoneNumber').text\n",
    "    #updating resident variable\n",
    "    resident.append(PhoneNumber)\n",
    "    #Adding values to column name \"EmailAddress\"\n",
    "    EmailAddress = member.find('EmailAddress').text\n",
    "    #updating resident variable\n",
    "    resident.append(EmailAddress)\n",
    "    #Adding values to column name \"Address\"\n",
    "    Address = member[3][0].text\n",
    "    #updating to address_list\n",
    "    address_list.append(Address)\n",
    "    #Adding City into Address\n",
    "    City = member[3][1].text\n",
    "    #Updating into adress_list variable\n",
    "    address_list.append(City)\n",
    "    #Adding State_code into Address\n",
    "    StateCode = member[3][2].text\n",
    "    #Updating into address_list\n",
    "    address_list.append(StateCode)\n",
    "    #Adding State_code into Address\n",
    "    PostalCode = member[3][3].text\n",
    "    #Updating to address_list variable\n",
    "    address_list.append(PostalCode)\n",
    "    #Finaly updating address_list into resident\n",
    "    resident.append(address_list)\n",
    "    #write into csv format\n",
    "    csvwriter.writerow(resident)\n",
    "Resident_data.close()"
   ]
  },
  {
   "cell_type": "code",
   "execution_count": 17,
   "metadata": {
    "collapsed": true
   },
   "outputs": [],
   "source": [
    "import pandas as pd"
   ]
  },
  {
   "cell_type": "code",
   "execution_count": 18,
   "metadata": {
    "collapsed": true
   },
   "outputs": [],
   "source": [
    "df = pd.read_csv('ResidentData.csv')"
   ]
  },
  {
   "cell_type": "code",
   "execution_count": 19,
   "metadata": {},
   "outputs": [
    {
     "data": {
      "text/html": [
       "<div>\n",
       "<style>\n",
       "    .dataframe thead tr:only-child th {\n",
       "        text-align: right;\n",
       "    }\n",
       "\n",
       "    .dataframe thead th {\n",
       "        text-align: left;\n",
       "    }\n",
       "\n",
       "    .dataframe tbody tr th {\n",
       "        vertical-align: top;\n",
       "    }\n",
       "</style>\n",
       "<table border=\"1\" class=\"dataframe\">\n",
       "  <thead>\n",
       "    <tr style=\"text-align: right;\">\n",
       "      <th></th>\n",
       "      <th>Name</th>\n",
       "      <th>PhoneNumber</th>\n",
       "      <th>EmailAddress</th>\n",
       "      <th>Address</th>\n",
       "    </tr>\n",
       "  </thead>\n",
       "  <tbody>\n",
       "    <tr>\n",
       "      <th>0</th>\n",
       "      <td>Sample Name</td>\n",
       "      <td>1234567891</td>\n",
       "      <td>sample_name@example.com</td>\n",
       "      <td>['Street Line1', 'City Name', 'AE', '12345']</td>\n",
       "    </tr>\n",
       "    <tr>\n",
       "      <th>1</th>\n",
       "      <td>Sample Name1</td>\n",
       "      <td>1234567891</td>\n",
       "      <td>sample_name1@example.com</td>\n",
       "      <td>['Current Address', 'Los Angeles', 'CA', '56666']</td>\n",
       "    </tr>\n",
       "  </tbody>\n",
       "</table>\n",
       "</div>"
      ],
      "text/plain": [
       "           Name  PhoneNumber              EmailAddress  \\\n",
       "0   Sample Name   1234567891   sample_name@example.com   \n",
       "1  Sample Name1   1234567891  sample_name1@example.com   \n",
       "\n",
       "                                             Address  \n",
       "0       ['Street Line1', 'City Name', 'AE', '12345']  \n",
       "1  ['Current Address', 'Los Angeles', 'CA', '56666']  "
      ]
     },
     "execution_count": 19,
     "metadata": {},
     "output_type": "execute_result"
    }
   ],
   "source": [
    "df.head(5)"
   ]
  },
  {
   "cell_type": "code",
   "execution_count": null,
   "metadata": {
    "collapsed": true
   },
   "outputs": [],
   "source": []
  }
 ],
 "metadata": {
  "kernelspec": {
   "display_name": "Python 2",
   "language": "python",
   "name": "python2"
  },
  "language_info": {
   "codemirror_mode": {
    "name": "ipython",
    "version": 2
   },
   "file_extension": ".py",
   "mimetype": "text/x-python",
   "name": "python",
   "nbconvert_exporter": "python",
   "pygments_lexer": "ipython2",
   "version": "2.7.13"
  }
 },
 "nbformat": 4,
 "nbformat_minor": 2
}
